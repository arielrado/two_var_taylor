{
 "cells": [
  {
   "cell_type": "code",
   "execution_count": 14,
   "metadata": {},
   "outputs": [],
   "source": [
    "def Taylor_polynomial_sympy(function_expression, variable_list, evaluation_point, degree):\n",
    "    \"\"\"\n",
    "    Mathematical formulation reference:\n",
    "    https://math.libretexts.org/Bookshelves/Calculus/Supplemental_Modules_(Calculus)/Multivariable_Calculus/3%3A_Topics_in_Partial_Derivatives/Taylor__Polynomials_of_Functions_of_Two_Variables\n",
    "    :param function_expression: Sympy expression of the function\n",
    "    :param variable_list: list. All variables to be approximated (to be \"Taylorized\")\n",
    "    :param evaluation_point: list. Coordinates, where the function will be expressed\n",
    "    :param degree: int. Total degree of the Taylor polynomial\n",
    "    :return: Returns a Sympy expression of the Taylor series up to a given degree, of a given multivariate expression, approximated as a multivariate polynomial evaluated at the evaluation_point\n",
    "    \"\"\"\n",
    "    from sympy import factorial, Matrix, prod\n",
    "    import itertools\n",
    "\n",
    "    n_var = len(variable_list)\n",
    "    point_coordinates = [(i, j) for i, j in (zip(variable_list, evaluation_point))]  # list of tuples with variables and their evaluation_point coordinates, to later perform substitution\n",
    "\n",
    "    deriv_orders = list(itertools.product(range(degree + 1), repeat=n_var))  # list with exponentials of the partial derivatives\n",
    "    deriv_orders = [deriv_orders[i] for i in range(len(deriv_orders)) if sum(deriv_orders[i]) <= degree]  # Discarding some higher-order terms\n",
    "    n_terms = len(deriv_orders)\n",
    "    deriv_orders_as_input = [list(sum(list(zip(variable_list, deriv_orders[i])), ())) for i in range(n_terms)]  # Individual degree of each partial derivative, of each term\n",
    "\n",
    "    polynomial = 0\n",
    "    for i in range(n_terms):\n",
    "        partial_derivatives_at_point = function_expression.diff(*deriv_orders_as_input[i]).subs(point_coordinates)  # e.g. df/(dx*dy**2)\n",
    "        denominator = prod([factorial(j) for j in deriv_orders[i]])  # e.g. (1! * 2!)\n",
    "        distances_powered = prod([(Matrix(variable_list) - Matrix(evaluation_point))[j] ** deriv_orders[i][j] for j in range(n_var)])  # e.g. (x-x0)*(y-y0)**2\n",
    "        polynomial += partial_derivatives_at_point / denominator * distances_powered\n",
    "    return polynomial"
   ]
  },
  {
   "cell_type": "code",
   "execution_count": 15,
   "metadata": {},
   "outputs": [
    {
     "data": {
      "text/latex": [
       "$\\displaystyle - 2.0 x + 6.25 y^{2} \\left(x + 1\\right) + 6.25 y^{2}$"
      ],
      "text/plain": [
       "-2.0*x + 6.25*y**2*(x + 1) + 6.25*y**2"
      ]
     },
     "execution_count": 15,
     "metadata": {},
     "output_type": "execute_result"
    }
   ],
   "source": [
    "from sympy import Symbol, Derivative\n",
    "\n",
    "x = Symbol('x')\n",
    "y = Symbol('y')\n",
    "\n",
    "f = (4*x**2+ 25*y**2)**(1/2)\n",
    "\n",
    "Taylor_polynomial_sympy(f,[x,y],(-1,0),3)"
   ]
  }
 ],
 "metadata": {
  "interpreter": {
   "hash": "0f96f3d5597ad606274cd43fe8d72d6bd8c148b61e803ba86d57d1c72407dea5"
  },
  "kernelspec": {
   "display_name": "Python 3.10.4 64-bit (windows store)",
   "language": "python",
   "name": "python3"
  },
  "language_info": {
   "codemirror_mode": {
    "name": "ipython",
    "version": 3
   },
   "file_extension": ".py",
   "mimetype": "text/x-python",
   "name": "python",
   "nbconvert_exporter": "python",
   "pygments_lexer": "ipython3",
   "version": "3.10.5"
  },
  "orig_nbformat": 4
 },
 "nbformat": 4,
 "nbformat_minor": 2
}
